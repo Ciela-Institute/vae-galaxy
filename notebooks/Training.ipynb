{
 "cells": [
  {
   "cell_type": "code",
   "execution_count": null,
   "id": "48447ee8",
   "metadata": {},
   "outputs": [],
   "source": [
    "import torch \n",
    "import numpy as np \n",
    "from torch.utils.data import DataLoader \n",
    "import matplotlib.pyplot as plt\n",
    "import h5py \n",
    "import sys\n",
    "models_path = \"..\\\\Models architecture\"\n",
    "sys.path.append(models_path)\n",
    "torch.manual_seed(0)"
   ]
  },
  {
   "cell_type": "code",
   "execution_count": null,
   "id": "b78d128e",
   "metadata": {},
   "outputs": [],
   "source": [
    "device = 'cuda' if torch.cuda.is_available else 'cpu'"
   ]
  },
  {
   "cell_type": "markdown",
   "id": "da4b3338",
   "metadata": {},
   "source": [
    "# Importing galaxies"
   ]
  },
  {
   "cell_type": "code",
   "execution_count": null,
   "id": "0bb4a87d",
   "metadata": {},
   "outputs": [],
   "source": [
    "path_cosmic_survey = '...\\\\cosmos_25.2_all_with_zphot.h5'\n",
    "path_deepfield = '...\\\\cosmos_23.5_128_augmented_denoised.h5'"
   ]
  },
  {
   "cell_type": "code",
   "execution_count": null,
   "id": "df9389ed",
   "metadata": {},
   "outputs": [],
   "source": [
    "class Hdf_dataset(torch.utils.data.Dataset):\n",
    "    def __init__(self, file):\n",
    "        self.file = file\n",
    "        self.hdf = h5py.File(file, 'r')\n",
    "        self.datasets = list(self.hdf.keys())\n",
    "\n",
    "    def __len__(self):\n",
    "        size = len(self.hdf[self.datasets[0]])\n",
    "        return size\n",
    "\n",
    "    def __getitem__(self, idx):\n",
    "    \n",
    "        if len(self.datasets) == 2:\n",
    "            x = self.hdf[self.datasets[0]][idx]\n",
    "            z = self.hdf[self.datasets[1]][idx]\n",
    "            return x, z\n",
    "        \n",
    "        else:\n",
    "            x = self.hdf[self.datasets[0]][idx]\n",
    "            return x"
   ]
  },
  {
   "cell_type": "code",
   "execution_count": null,
   "id": "fb36f56d",
   "metadata": {},
   "outputs": [],
   "source": [
    "cosmic_survey_dataset = Hdf_dataset(path_cosmic_survey)\n",
    "deepfield_dataset = Hdf_dataset(path_deepfield)"
   ]
  },
  {
   "cell_type": "code",
   "execution_count": null,
   "id": "041f9c2d",
   "metadata": {},
   "outputs": [],
   "source": [
    "# Change cosmic_survey_dataset by deepfield_dataset if you want to train with Model_128vae \n",
    "data_size = len(cosmic_survey_dataset) # <-- change dataset if needed ! \n",
    "train_size = int(0.9 * data_size)\n",
    "val_size = data_size - train_size\n",
    "\n",
    "Generator = torch.Generator()\n",
    "Generator.manual_seed(0)\n",
    "train_set, val_set = torch.utils.data.random_split(cosmic_survey_dataset, [train_size, val_size], generator = Generator) # <-- change dataset if needed ! "
   ]
  },
  {
   "cell_type": "code",
   "execution_count": null,
   "id": "bd73e372",
   "metadata": {},
   "outputs": [],
   "source": [
    "batchsize = 64\n",
    "train_loader = DataLoader(train_set, batch_size = batchsize)\n",
    "val_loader = DataLoader(val_set, batch_size = batchsize)"
   ]
  },
  {
   "cell_type": "markdown",
   "id": "cf9eefc7",
   "metadata": {},
   "source": [
    "# Training Time\n",
    "To train, `vae.train_time(train_loader, val_loader, epochs = 100, learning_rate = 1e-3 , beta = 0.1)`.  \n",
    "$\\beta$ can be a scalar or a table of values (list, array, tensor). Just make sure `len(beta) = epochs`.  \n",
    "If you are working with the _fancy_cvae_ architecture `vae.train_time(*args, k=1000)` has an extra hyperparameter $k$ which is just a multiplier of the loss function between the true redshift value and its prediction (which is part of the general loss). \n",
    "\n",
    "Therefore, with a greater value for $k$ neural network will learn better predictions of the redshifts. "
   ]
  },
  {
   "cell_type": "code",
   "execution_count": null,
   "id": "7e52ee33-cb87-4cd8-a1bf-ce9491ec608c",
   "metadata": {},
   "outputs": [],
   "source": [
    "# Importing the model: Model_128vae, Model_158vae, cvae, cvae2, fancy_cvae\n",
    "from cvae2 import VariationalAutoencoder"
   ]
  },
  {
   "cell_type": "code",
   "execution_count": null,
   "id": "5037c7ba",
   "metadata": {},
   "outputs": [],
   "source": [
    "# Network parameters (for cvae2, nc= number of channels = 1, for cvae and fancy_cvae, nc = number of channels= 2)\n",
    "z_dim =  32\n",
    "vae = VariationalAutoencoder(z_dim).to(device)\n",
    "\n",
    "# Training parameters\n",
    "num_epochs = 100\n",
    "lr = 1e-4\n",
    "Beta = 0.1 # Beta-vae \n",
    "vae.train()\n",
    "train_loss, val_loss, mse, kl = vae.train_time(train_loader, val_loader, epochs = num_epochs, learning_rate = lr, beta = Beta)"
   ]
  },
  {
   "cell_type": "markdown",
   "id": "929de2fd",
   "metadata": {},
   "source": [
    "# Saving the weights and the loss "
   ]
  },
  {
   "cell_type": "code",
   "execution_count": null,
   "id": "c2172fc0",
   "metadata": {},
   "outputs": [],
   "source": [
    "# Automatically creates the name of the file \n",
    "hyperparameters = {'batch size': batchsize, 'epochs': num_epochs, 'beta': Beta, 'learning rate': lr, 'z_dim': z_dim}\n",
    "\n",
    "if type(Beta) == torch.Tensor or type(Beta) == np.ndarray or type(Beta) == list:\n",
    "    beta_behaviour = input(\"Enter a word to describe beta's behaviour\").replace(\" \",\"\")\n",
    "    loss_file_name = \"z\"+str(z_dim)+\"_beta\"+beta_behaviour+\"_loss.pt\"\n",
    "    weights_file_name = \"z\"+str(z_dim)+\"_beta\"+beta_behaviour+\"_weights.pt\"\n",
    "else: \n",
    "    loss_file_name = \"z\"+str(z_dim)+\"_beta\"+str(Beta)+\"_loss.pt\"\n",
    "    weights_file_name = \"z\"+str(z_dim)+\"_beta\"+str(Beta)+\"_weightscvae2.pt\"\n",
    "\n",
    "data_training_cosmic_survey = \"..\\\\weights\\\\cosmic_survey\\\\\" \n",
    "data_training_deepfield = \"..\\\\weights\\\\deepfield\\\\\"\n",
    "\n",
    "weights_path = data_training_cosmic_survey + weights_file_name\n",
    "loss_path = data_training_cosmic_survey + loss_file_name\n",
    "\n",
    "#torch.save([vae.state_dict(), hyperparameters], weights_path)\n",
    "#torch.save([train_loss, val_loss, mse, kl, hyperparameters], loss_path)"
   ]
  }
 ],
 "metadata": {
  "kernelspec": {
   "display_name": "Python 3.9.7 ('base')",
   "language": "python",
   "name": "python3"
  },
  "language_info": {
   "codemirror_mode": {
    "name": "ipython",
    "version": 3
   },
   "file_extension": ".py",
   "mimetype": "text/x-python",
   "name": "python",
   "nbconvert_exporter": "python",
   "pygments_lexer": "ipython3",
   "version": "3.9.12"
  },
  "vscode": {
   "interpreter": {
    "hash": "3d7fd2a48356971e58618481ace9fdf054dd5c32337f32d6ebacd58cdfb77420"
   }
  }
 },
 "nbformat": 4,
 "nbformat_minor": 5
}
