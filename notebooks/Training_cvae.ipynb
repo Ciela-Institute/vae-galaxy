{
 "cells": [
  {
   "cell_type": "code",
   "execution_count": null,
   "id": "48447ee8",
   "metadata": {},
   "outputs": [],
   "source": [
    "import torch \n",
    "from torch.utils.data import DataLoader \n",
    "import matplotlib.pyplot as plt\n",
    "import h5py \n",
    "import sys\n",
    "models_path = \"...\\\\Models architecture\"\n",
    "sys.path.append(models_path)\n",
    "torch.manual_seed(0)"
   ]
  },
  {
   "cell_type": "code",
   "execution_count": null,
   "id": "b78d128e",
   "metadata": {},
   "outputs": [],
   "source": [
    "device = 'cuda' if torch.cuda.is_available else 'cpu'"
   ]
  },
  {
   "cell_type": "markdown",
   "id": "da4b3338",
   "metadata": {},
   "source": [
    "# View some galaxies"
   ]
  },
  {
   "cell_type": "code",
   "execution_count": null,
   "id": "0bb4a87d",
   "metadata": {},
   "outputs": [],
   "source": [
    "path_galaxy_w_redshift = '...\\\\cosmos_25.2_all_with_zphot.h5'"
   ]
  },
  {
   "cell_type": "code",
   "execution_count": null,
   "id": "df9389ed",
   "metadata": {},
   "outputs": [],
   "source": [
    "class dataset(torch.utils.data.Dataset):\n",
    "    def __init__(self, file):\n",
    "        self.file = file\n",
    "        self.hdf = h5py.File(file, 'r')\n",
    "        self.datasets = list(self.hdf.keys())\n",
    "\n",
    "    def __len__(self):\n",
    "        size = len(self.hdf[self.datasets[0]])\n",
    "        return size\n",
    "\n",
    "    def __getitem__(self, idx):\n",
    "        \n",
    "        x = self.hdf[self.datasets[0]][idx]\n",
    "        z = self.hdf[self.datasets[1]][idx]\n",
    "        return x, z\n"
   ]
  },
  {
   "cell_type": "code",
   "execution_count": null,
   "id": "fb36f56d",
   "metadata": {},
   "outputs": [],
   "source": [
    "galaxy_w_redshift_dataset = dataset(path_galaxy_w_redshift)"
   ]
  },
  {
   "cell_type": "code",
   "execution_count": null,
   "id": "041f9c2d",
   "metadata": {},
   "outputs": [],
   "source": [
    "data_size = len(galaxy_w_redshift_dataset)\n",
    "train_size = int(0.9 * data_size)\n",
    "val_size = data_size - train_size\n",
    "\n",
    "Generator = torch.Generator()\n",
    "Generator.manual_seed(0)\n",
    "train_set, val_set = torch.utils.data.random_split(galaxy_w_redshift_dataset, [train_size, val_size], generator = Generator)"
   ]
  },
  {
   "cell_type": "code",
   "execution_count": null,
   "id": "bd73e372",
   "metadata": {},
   "outputs": [],
   "source": [
    "batchsize = 64\n",
    "train_loader = DataLoader(train_set, batch_size = batchsize, shuffle = True)\n",
    "val_loader = DataLoader(val_set, batch_size = batchsize, shuffle = True)"
   ]
  },
  {
   "cell_type": "markdown",
   "id": "cf9eefc7",
   "metadata": {},
   "source": [
    "# Training Time"
   ]
  },
  {
   "cell_type": "code",
   "execution_count": null,
   "id": "7e52ee33-cb87-4cd8-a1bf-ce9491ec608c",
   "metadata": {},
   "outputs": [],
   "source": [
    "from cvae import VariationalAutoencoder"
   ]
  },
  {
   "cell_type": "code",
   "execution_count": null,
   "id": "5037c7ba",
   "metadata": {},
   "outputs": [],
   "source": [
    "# Network parameters \n",
    "nc, nf, z_dim = 2, 64, 32\n",
    "vae = VariationalAutoencoder(nc, nf, z_dim).to(device)\n",
    "\n",
    "# Training parameters\n",
    "num_epochs = 100\n",
    "lr = 1e-3\n",
    "Beta = 0.1 # Disentangled vae \n",
    "train_loss, val_loss, mse, kl = vae.train_time (train_loader, val_loader, epochs = num_epochs, learning_rate = lr, beta = Beta)"
   ]
  },
  {
   "cell_type": "code",
   "execution_count": null,
   "id": "101def74",
   "metadata": {},
   "outputs": [],
   "source": [
    "hyperparameters = {'batch size': batchsize, 'epochs': num_epochs, 'beta': Beta, 'learning rate': lr, 'z_dim': z_dim}\n",
    "\n",
    "if type(Beta) == torch.Tensor:\n",
    "    beta_behaviour = input(\"Enter a word to describe beta's behaviour\").replace(\" \",\"\")\n",
    "    loss_file_name = \"z\"+str(z_dim)+\"_beta\"+beta_behaviour+\"_loss.pt\"\n",
    "    weights_file_name = \"z\"+str(z_dim)+\"_beta\"+beta_behaviour+\"_weights.pt\"\n",
    "else: \n",
    "    loss_file_name = \"z\"+str(z_dim)+\"_beta\"+str(Beta)+\"_loss.pt\"\n",
    "    weights_file_name = \"z\"+str(z_dim)+\"_beta\"+str(Beta)+\"_weights.pt\"\n",
    "\n",
    "data_training_cosmic_survey = \"...\\\\\"\n",
    "weights_path = data_training_cosmic_survey + weights_file_name\n",
    "loss_path = data_training_cosmic_survey + loss_file_name\n",
    "\n",
    "# torch.save(vae.state_dict(), weights_path)\n",
    "# torch.save([train_loss, val_loss, mse, kl, hyperparameters], loss_path)"
   ]
  }
 ],
 "metadata": {
  "kernelspec": {
   "display_name": "Python 3.9.7 ('base')",
   "language": "python",
   "name": "python3"
  },
  "language_info": {
   "codemirror_mode": {
    "name": "ipython",
    "version": 3
   },
   "file_extension": ".py",
   "mimetype": "text/x-python",
   "name": "python",
   "nbconvert_exporter": "python",
   "pygments_lexer": "ipython3",
   "version": "3.9.12"
  },
  "vscode": {
   "interpreter": {
    "hash": "3d7fd2a48356971e58618481ace9fdf054dd5c32337f32d6ebacd58cdfb77420"
   }
  }
 },
 "nbformat": 4,
 "nbformat_minor": 5
}
