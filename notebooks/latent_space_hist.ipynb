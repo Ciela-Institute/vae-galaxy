{
 "cells": [
  {
   "cell_type": "code",
   "execution_count": 7,
   "metadata": {},
   "outputs": [],
   "source": [
    "import torch \n",
    "from torch.utils.data import DataLoader\n",
    "import matplotlib.pyplot as plt\n",
    "import numpy as np\n",
    "import h5py\n",
    "import sys \n",
    "models_folder = \"C:\\\\Users\\\\noedi\\\\Desktop\\\\Stage été 2022\\\\Code stage\\\\Vae Galaxies\"\n",
    "sys.path.append(models_folder)"
   ]
  },
  {
   "cell_type": "code",
   "execution_count": 4,
   "metadata": {},
   "outputs": [],
   "source": [
    "device = 'cuda' if torch.cuda.is_available else 'cpu'"
   ]
  },
  {
   "cell_type": "code",
   "execution_count": 15,
   "metadata": {},
   "outputs": [],
   "source": [
    "data_galaxy_and_redsift_path = 'C:\\\\Users\\\\noedi\\\\Desktop\\\\Stage été 2022\\\\Code stage\\\\Vae Galaxies\\\\Data\\\\cosmos_25.2_all_with_zphot.h5'\n",
    "data_denoised_path = 'C:\\\\Users\\\\noedi\\\\Desktop\\\\Stage été 2022\\\\Code stage\\\\Vae Galaxies\\\\Data\\\\cosmos.h5'\n",
    "hdf = h5py.File(data_galaxy_and_redsift_path, 'r')\n",
    "hdf.keys()\n",
    "galaxy_dataset, redshift_dataset = hdf.get(\"images\"), hdf.get(\"zphot\")"
   ]
  },
  {
   "cell_type": "markdown",
   "metadata": {},
   "source": [
    "# Importing the best trained model"
   ]
  },
  {
   "cell_type": "code",
   "execution_count": 12,
   "metadata": {},
   "outputs": [],
   "source": [
    "from Model_vae import VariationalAutoencoder"
   ]
  },
  {
   "cell_type": "code",
   "execution_count": 14,
   "metadata": {},
   "outputs": [
    {
     "data": {
      "text/plain": [
       "<All keys matched successfully>"
      ]
     },
     "execution_count": 14,
     "metadata": {},
     "output_type": "execute_result"
    }
   ],
   "source": [
    "nc = 1\n",
    "nf = 64\n",
    "z_dim = 32\n",
    "vae = VariationalAutoencoder(nc, nf, z_dim).to(device)\n",
    "\n",
    "weights_path =  'C:\\\\Users\\\\noedi\\\\Desktop\\\\Stage été 2022\\\\Code stage\\\\Vae Galaxies\\\\Data\\\\weights + losses\\\\galaxy_w_redshift\\\\vae\\\\z32_beta0.1_weights.pt'\n",
    "vae.load_state_dict(torch.load(weights_path))"
   ]
  },
  {
   "cell_type": "code",
   "execution_count": 17,
   "metadata": {},
   "outputs": [
    {
     "data": {
      "text/plain": [
       "81499"
      ]
     },
     "execution_count": 17,
     "metadata": {},
     "output_type": "execute_result"
    }
   ],
   "source": [
    "len(galaxy_dataset)"
   ]
  },
  {
   "cell_type": "code",
   "execution_count": 16,
   "metadata": {},
   "outputs": [
    {
     "ename": "IndentationError",
     "evalue": "expected an indented block (1489436102.py, line 3)",
     "output_type": "error",
     "traceback": [
      "\u001b[1;36m  Input \u001b[1;32mIn [16]\u001b[1;36m\u001b[0m\n\u001b[1;33m    \u001b[0m\n\u001b[1;37m    ^\u001b[0m\n\u001b[1;31mIndentationError\u001b[0m\u001b[1;31m:\u001b[0m expected an indented block\n"
     ]
    }
   ],
   "source": [
    "mu = torch.empty(size = (len(galaxy_dataset), z_dim))\n",
    "for i, j in enumerate(galaxy_dataset):\n",
    "     mu = \n",
    "    "
   ]
  },
  {
   "cell_type": "code",
   "execution_count": null,
   "metadata": {},
   "outputs": [],
   "source": []
  }
 ],
 "metadata": {
  "kernelspec": {
   "display_name": "Python 3 (ipykernel)",
   "language": "python",
   "name": "python3"
  },
  "language_info": {
   "codemirror_mode": {
    "name": "ipython",
    "version": 3
   },
   "file_extension": ".py",
   "mimetype": "text/x-python",
   "name": "python",
   "nbconvert_exporter": "python",
   "pygments_lexer": "ipython3",
   "version": "3.9.12"
  },
  "vscode": {
   "interpreter": {
    "hash": "3d7fd2a48356971e58618481ace9fdf054dd5c32337f32d6ebacd58cdfb77420"
   }
  }
 },
 "nbformat": 4,
 "nbformat_minor": 4
}
